{
 "cells": [
  {
   "cell_type": "code",
   "execution_count": 1,
   "metadata": {},
   "outputs": [],
   "source": [
    "n = 3\n",
    "q = 229\n",
    "B = 2\n",
    "\n",
    "\n",
    "def key_gen(n, q, B):\n",
    "    A = random_matrix(ZZ, n, n, x = q) #Size n*n matrix in Z_q\n",
    "    s = random_matrix(ZZ, n, 1, x = B) #short n*1 vectors.\n",
    "    e = random_matrix(ZZ, n, 1, x = B)\n",
    "    return A, s, A*s + e\n",
    "\n",
    "\n",
    "def encrypt(A, b, m): #m is a singular bit\n",
    "    noisy_vector1 = random_matrix(ZZ, n, 1, x = B)\n",
    "    noisy_vector2 = random_matrix(ZZ, n, 1, x = B)\n",
    "    noisy_number = random_matrix(ZZ, 1, 1, x = B)\n",
    "    c1 = A.transpose()*noisy_vector1 + noisy_vector2\n",
    "    c2 = b.transpose()*noisy_vector1 + noisy_number + m*round(q/2)\n",
    "    return c1, c2\n",
    "\n",
    "def mod_q(x): #translate [0, q-1] to [-q/2, q/2]\n",
    "    if x <= (q-1)/2:\n",
    "        return x\n",
    "    else:\n",
    "        return x - q\n",
    "\n",
    "def round_q(x): #translate [-q/2, q/2] to {0, 1}\n",
    "    if x<q/4 and x>=-q/4:\n",
    "        return 0\n",
    "    else:\n",
    "        return 1\n",
    "\n",
    "def decrypt(c1,c2):\n",
    "    return round_q(c2 - s.transpose()*c1)\n",
    "\n",
    "A, s , b= key_gen(n, q, B)\n"
   ]
  },
  {
   "cell_type": "code",
   "execution_count": 2,
   "metadata": {},
   "outputs": [
    {
     "name": "stdout",
     "output_type": "stream",
     "text": [
      "[1, 0, 0, 0, 1, 0, 1, 1, 1, 1]\n"
     ]
    }
   ],
   "source": [
    "def generate_random_bits(n):\n",
    "    return [randint(0, 1) for _ in range(n)]\n",
    "\n",
    "m = generate_random_bits(10)\n",
    "print(m)"
   ]
  },
  {
   "cell_type": "code",
   "execution_count": 3,
   "metadata": {},
   "outputs": [
    {
     "name": "stdout",
     "output_type": "stream",
     "text": [
      "Original message: [1, 0, 0, 0, 1, 0, 1, 1, 1, 1]\n",
      "1 0 0 0 1 0 1 1 1 1 "
     ]
    }
   ],
   "source": [
    "print(\"Original message:\", m)\n",
    "\n",
    "for i in range(len(m)):\n",
    "\n",
    "    c1, c2 = encrypt(A, b, m[i])\n",
    "    print(decrypt(c1, c2), end = ' ')"
   ]
  },
  {
   "cell_type": "code",
   "execution_count": 4,
   "metadata": {},
   "outputs": [],
   "source": [
    "def string_to_bits(s):\n",
    "    return [int(i) for i in bin(int.from_bytes(s.encode(), 'big'))[2:]]\n",
    "def bits_to_string(b):\n",
    "    return int(\"\".join(str(i) for i in b), 2).to_bytes((len(b) + 7) // 8, 'big').decode()\n",
    "\n",
    "\n"
   ]
  },
  {
   "cell_type": "code",
   "execution_count": null,
   "metadata": {},
   "outputs": [],
   "source": []
  }
 ],
 "metadata": {
  "kernelspec": {
   "display_name": "SageMath 10.5",
   "language": "sage",
   "name": "SageMath-10.5"
  },
  "language_info": {
   "codemirror_mode": {
    "name": "ipython",
    "version": 3
   },
   "file_extension": ".py",
   "mimetype": "text/x-python",
   "name": "sage",
   "nbconvert_exporter": "python",
   "pygments_lexer": "ipython3",
   "version": "3.12.5"
  }
 },
 "nbformat": 4,
 "nbformat_minor": 2
}
